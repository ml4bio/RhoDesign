{
 "cells": [
  {
   "cell_type": "markdown",
   "metadata": {},
   "source": [
    "For benchmarking, we calculated the four metrics: recovery rate, perplexity, rmsd and tmscore. "
   ]
  },
  {
   "cell_type": "code",
   "execution_count": 2,
   "metadata": {},
   "outputs": [
    {
     "name": "stderr",
     "output_type": "stream",
     "text": [
      "100%|██████████| 279/279 [01:14<00:00,  3.77it/s]\n",
      "100%|██████████| 279/279 [00:16<00:00, 17.08it/s]"
     ]
    },
    {
     "name": "stdout",
     "output_type": "stream",
     "text": [
      "recovery_rate: 0.5278057973963203\n",
      "perplexity: 2.431720873359259\n"
     ]
    },
    {
     "name": "stderr",
     "output_type": "stream",
     "text": [
      "\n"
     ]
    }
   ],
   "source": [
    "from RhoDesign import RhoDesignModel\n",
    "from alphabet import Alphabet\n",
    "import torch\n",
    "import torch.nn.functional as F\n",
    "from tqdm import tqdm\n",
    "import numpy as np\n",
    "import random\n",
    "from util import load_structure, extract_coords_from_structure, seq_rec_rate,CoordBatchConverter\n",
    "import os\n",
    "random.seed(0)\n",
    "\n",
    "_device = 0\n",
    "alphabet = Alphabet(['A','G','C','U','X'])\n",
    "batch_converter = CoordBatchConverter(alphabet)\n",
    "\n",
    "class args_class:  \n",
    "    def __init__(self, encoder_embed_dim, decoder_embed_dim, dropout):\n",
    "        self.local_rank = int(os.getenv(\"LOCAL_RANK\", -1))\n",
    "        self.device_id = [0, 1, 2, 3, 4, 5, 6, 7]\n",
    "        self.epochs = 100\n",
    "        self.lr = 1e-5\n",
    "        self.batch_size = 1\n",
    "        self.encoder_embed_dim = encoder_embed_dim\n",
    "        self.decoder_embed_dim = decoder_embed_dim\n",
    "        self.dropout = dropout\n",
    "        self.gvp_top_k_neighbors = 15\n",
    "        self.gvp_node_hidden_dim_vector = 256\n",
    "        self.gvp_node_hidden_dim_scalar = 512\n",
    "        self.gvp_edge_hidden_dim_scalar = 32\n",
    "        self.gvp_edge_hidden_dim_vector = 1\n",
    "        self.gvp_num_encoder_layers = 3\n",
    "        self.gvp_dropout = 0.1\n",
    "        self.encoder_layers = 3\n",
    "        self.encoder_attention_heads = 4\n",
    "        self.attention_dropout = 0.1\n",
    "        self.encoder_ffn_embed_dim = 512\n",
    "        self.decoder_layers = 3\n",
    "        self.decoder_attention_heads = 4\n",
    "        self.decoder_ffn_embed_dim = 512\n",
    "\n",
    "def get_sequence_loss(model, batch , _device):\n",
    "    device = _device\n",
    "    # batch_converter = CoordBatchConverter(alphabet)\n",
    "    \n",
    "    coords, confidence, strs, tokens, padding_mask,ss_ct_map = batch_converter(\n",
    "        batch, device=device)\n",
    "    \n",
    "    c = coords[:,:,[0,1,2],:] # the four backbone atoms\n",
    "    adc = coords[:,:,:,:] # eight atoms which are used to compute dihedral angles\n",
    "    padding_mask = padding_mask.bool()\n",
    "\n",
    "    prev_output_tokens = tokens[:, :-1].to(device)\n",
    "    target = tokens[:, 1:]\n",
    "    target_padding_mask = (target == alphabet.padding_idx)\n",
    "    logits, _ = model.forward(c, adc,ss_ct_map,padding_mask, confidence, prev_output_tokens)\n",
    "    loss = F.cross_entropy(logits, target, reduction='none')\n",
    "    loss = loss[0].cpu().detach().numpy()\n",
    "    target_padding_mask = target_padding_mask[0].cpu().numpy()\n",
    "    return loss, target_padding_mask\n",
    "\n",
    "def score_sequence(model, batch,_device):\n",
    "    loss, target_padding_mask = get_sequence_loss(model, batch,_device)\n",
    "    ll_fullseq = -np.sum(loss * ~target_padding_mask) / np.sum(~target_padding_mask)\n",
    "    return ll_fullseq\n",
    "\n",
    "def score_backbone(model, coords, seq, ss_ct_map, _device):\n",
    "    batch = [(coords, None, seq,ss_ct_map)]\n",
    "    ll= score_sequence(model, batch,_device) \n",
    "    ppl = np.exp(-ll)\n",
    "    return ppl\n",
    "\n",
    "def eval_ppl(model,pdb_list,model_path):\n",
    "    \"\"\"\n",
    "    fpath: path to pdb file\n",
    "    \"\"\"\n",
    "    \n",
    "    temp=torch.load(model_path) \n",
    "    model.load_state_dict(temp)  \n",
    "    model.eval()\n",
    "\n",
    "    with torch.no_grad():\n",
    "        pfile = './../data/test/'\n",
    "        ssfile = './../data/test_ss/'\n",
    "        ppl = []\n",
    "        wrong_ppl = []\n",
    "        wrong_p = []\n",
    "        for i in tqdm(pdb_list):\n",
    "            fpath = pfile+i+'.pdb'\n",
    "            ss_path = ssfile+i+'.npy'\n",
    "            s = load_structure(fpath)\n",
    "            coords, seq = extract_coords_from_structure(s)\n",
    "            ss_ct_map = np.load(ss_path)\n",
    "            ppl_v = score_backbone(model,coords,seq,ss_ct_map,_device)\n",
    "            ppl.append(ppl_v)\n",
    "    return np.mean(ppl)\n",
    "\n",
    "\n",
    "def eval(model,pdb_list,model_path,_device):\n",
    "    \"\"\"\n",
    "    fpath: path to pdb file\n",
    "    \"\"\"\n",
    "    test_path = './../data/test/'\n",
    "    test_ss_path = './../data/test_ss/'\n",
    "    \n",
    "    model_dir=torch.load(model_path) \n",
    "    model.load_state_dict(model_dir)  \n",
    "    model.eval()\n",
    "    rc = []\n",
    "    for pdb_name in tqdm(pdb_list):\n",
    "        pdb_path = test_path + pdb_name + '.pdb'\n",
    "        ss_path = test_ss_path + pdb_name.split('.')[0] + '.npy'\n",
    "        ss_ct_map = np.load(ss_path)\n",
    "        pdb = load_structure(pdb_path)\n",
    "        coords, seq = extract_coords_from_structure(pdb)\n",
    "        pred_seq = model.sample(coords,ss_ct_map,_device,temperature=1e-5)\n",
    "        rc_value = seq_rec_rate(seq,pred_seq)\n",
    "        rc.append(rc_value)\n",
    "    \n",
    "    return np.mean(rc)\n",
    "\n",
    "\n",
    "args = args_class(512,512,0.1)\n",
    "dictionary = Alphabet(['A','G','C','U','X'])\n",
    "model = RhoDesignModel(args, dictionary).cuda(device=_device)\n",
    "\n",
    "\n",
    "\n",
    "pdb_list = os.listdir('./../data/test/')\n",
    "pdb_list = [i.split('.')[0] for i in pdb_list]\n",
    "\n",
    "model_path = './../model/ss_apexp_best.pth'\n",
    "\n",
    "recovery_rate = eval(model,pdb_list,model_path,_device) \n",
    "perplexity = eval_ppl(model,pdb_list,model_path)\n",
    "\n",
    "print('recovery_rate:', recovery_rate)\n",
    "print('perplexity:', perplexity)"
   ]
  },
  {
   "cell_type": "code",
   "execution_count": 3,
   "metadata": {},
   "outputs": [
    {
     "name": "stderr",
     "output_type": "stream",
     "text": [
      "100%|██████████| 801/801 [03:56<00:00,  3.39it/s]\n",
      "100%|██████████| 801/801 [00:50<00:00, 16.00it/s]\n",
      "100%|██████████| 803/803 [03:11<00:00,  4.19it/s]\n",
      "100%|██████████| 803/803 [00:43<00:00, 18.29it/s]\n",
      "100%|██████████| 852/852 [05:08<00:00,  2.76it/s]\n",
      "100%|██████████| 852/852 [01:02<00:00, 13.68it/s]\n",
      "100%|██████████| 820/820 [02:48<00:00,  4.86it/s]\n",
      "100%|██████████| 820/820 [00:40<00:00, 20.16it/s]\n",
      "100%|██████████| 801/801 [03:37<00:00,  3.68it/s]\n",
      "100%|██████████| 801/801 [00:47<00:00, 16.80it/s]"
     ]
    },
    {
     "name": "stdout",
     "output_type": "stream",
     "text": [
      "For cross-fold validation, when sequence-similarity < 0.6, average recovery_rate: 0.631432166540998\n",
      "For cross-fold validation, when sequence-similarity < 0.6, average perplexity: 2.021607148379395\n"
     ]
    },
    {
     "name": "stderr",
     "output_type": "stream",
     "text": [
      "\n"
     ]
    }
   ],
   "source": [
    "from RhoDesign import RhoDesignModel\n",
    "from alphabet import Alphabet\n",
    "import torch\n",
    "import torch.nn.functional as F\n",
    "from tqdm import tqdm\n",
    "import numpy as np\n",
    "import random\n",
    "from util import load_structure, extract_coords_from_structure, seq_rec_rate,CoordBatchConverter\n",
    "import os\n",
    "random.seed(0)\n",
    "\n",
    "_device = 0\n",
    "alphabet = Alphabet(['A','G','C','U','X'])\n",
    "batch_converter = CoordBatchConverter(alphabet)\n",
    "\n",
    "class args_class:  \n",
    "    def __init__(self, encoder_embed_dim, decoder_embed_dim, dropout):\n",
    "        self.local_rank = int(os.getenv(\"LOCAL_RANK\", -1))\n",
    "        self.device_id = [0, 1, 2, 3, 4, 5, 6, 7]\n",
    "        self.epochs = 100\n",
    "        self.lr = 1e-5\n",
    "        self.batch_size = 1\n",
    "        self.encoder_embed_dim = encoder_embed_dim\n",
    "        self.decoder_embed_dim = decoder_embed_dim\n",
    "        self.dropout = dropout\n",
    "        self.gvp_top_k_neighbors = 15\n",
    "        self.gvp_node_hidden_dim_vector = 256\n",
    "        self.gvp_node_hidden_dim_scalar = 512\n",
    "        self.gvp_edge_hidden_dim_scalar = 32\n",
    "        self.gvp_edge_hidden_dim_vector = 1\n",
    "        self.gvp_num_encoder_layers = 3\n",
    "        self.gvp_dropout = 0.1\n",
    "        self.encoder_layers = 3\n",
    "        self.encoder_attention_heads = 4\n",
    "        self.attention_dropout = 0.1\n",
    "        self.encoder_ffn_embed_dim = 512\n",
    "        self.decoder_layers = 3\n",
    "        self.decoder_attention_heads = 4\n",
    "        self.decoder_ffn_embed_dim = 512\n",
    "\n",
    "def get_sequence_loss(model, batch , _device):\n",
    "    device = _device\n",
    "    # batch_converter = CoordBatchConverter(alphabet)\n",
    "    \n",
    "    coords, confidence, strs, tokens, padding_mask,ss_ct_map = batch_converter(\n",
    "        batch, device=device)\n",
    "    \n",
    "    c = coords[:,:,[0,1,2],:] # the four backbone atoms\n",
    "    adc = coords[:,:,:,:] # eight atoms which are used to compute dihedral angles\n",
    "    padding_mask = padding_mask.bool()\n",
    "\n",
    "    prev_output_tokens = tokens[:, :-1].to(device)\n",
    "    target = tokens[:, 1:]\n",
    "    target_padding_mask = (target == alphabet.padding_idx)\n",
    "    logits, _ = model.forward(c, adc,ss_ct_map,padding_mask, confidence, prev_output_tokens)\n",
    "    loss = F.cross_entropy(logits, target, reduction='none')\n",
    "    loss = loss[0].cpu().detach().numpy()\n",
    "    target_padding_mask = target_padding_mask[0].cpu().numpy()\n",
    "    return loss, target_padding_mask\n",
    "\n",
    "def score_sequence(model, batch,_device):\n",
    "    loss, target_padding_mask = get_sequence_loss(model, batch,_device)\n",
    "    ll_fullseq = -np.sum(loss * ~target_padding_mask) / np.sum(~target_padding_mask)\n",
    "    return ll_fullseq\n",
    "\n",
    "def score_backbone(model, coords, seq, ss_ct_map, _device):\n",
    "    batch = [(coords, None, seq,ss_ct_map)]\n",
    "    ll= score_sequence(model, batch,_device) \n",
    "    ppl = np.exp(-ll)\n",
    "    return ppl\n",
    "\n",
    "def eval_ppl(model,pdb_list,model_path):\n",
    "    \"\"\"\n",
    "    fpath: path to pdb file\n",
    "    \"\"\"\n",
    "    \n",
    "    temp=torch.load(model_path) \n",
    "    model.load_state_dict(temp)  \n",
    "    model.eval()\n",
    "\n",
    "    with torch.no_grad():\n",
    "        pfile = '/home/hedongchen/projects/RNA3D_DATA/pdb/' # please specify the path to the pdb files of cross-fold validation datasets\n",
    "        ssfile = '/home/hedongchen/projects/RNA3D_DATA/ss/'\n",
    "        ppl = []\n",
    "        wrong_ppl = []\n",
    "        wrong_p = []\n",
    "        for i in tqdm(pdb_list):\n",
    "            fpath = pfile+i+'.pdb'\n",
    "            ss_path = ssfile+i+'.npy'\n",
    "            s = load_structure(fpath)\n",
    "            coords, seq = extract_coords_from_structure(s)\n",
    "            ss_ct_map = np.load(ss_path)\n",
    "            ppl_v = score_backbone(model,coords,seq,ss_ct_map,_device)\n",
    "            ppl.append(ppl_v)\n",
    "    return np.mean(ppl)\n",
    "\n",
    "\n",
    "def eval(model,pdb_list,model_path,_device):\n",
    "    \"\"\"\n",
    "    fpath: path to pdb file\n",
    "    \"\"\"\n",
    "    test_path = '/home/hedongchen/projects/RNA3D_DATA/pdb/' # please specify the path to the pdb files of cross-fold validation datasets\n",
    "    test_ss_path = '/home/hedongchen/projects/RNA3D_DATA/ss/' \n",
    "    \n",
    "    model_dir=torch.load(model_path) \n",
    "    model.load_state_dict(model_dir)  \n",
    "    model.eval()\n",
    "    rc = []\n",
    "    for pdb_name in tqdm(pdb_list):\n",
    "        pdb_path = test_path + pdb_name + '.pdb'\n",
    "        ss_path = test_ss_path + pdb_name.split('.')[0] + '.npy'\n",
    "        ss_ct_map = np.load(ss_path)\n",
    "        pdb = load_structure(pdb_path)\n",
    "        coords, seq = extract_coords_from_structure(pdb)\n",
    "        pred_seq = model.sample(coords,ss_ct_map,_device,temperature=1e-5)\n",
    "        rc_value = seq_rec_rate(seq,pred_seq)\n",
    "        rc.append(rc_value)\n",
    "    \n",
    "    return np.mean(rc)\n",
    "\n",
    "\n",
    "args = args_class(512,512,0.1)\n",
    "dictionary = Alphabet(['A','G','C','U','X'])\n",
    "model = RhoDesignModel(args, dictionary).cuda(device=_device)\n",
    "\n",
    "name = 'seq'\n",
    "rc = []\n",
    "ppl = []\n",
    "\n",
    "for i in range(5):\n",
    "    path = f'/home/hedongchen/fold_{name}_{str(i)}.npy' # please specify the path to the pdb id file\n",
    "    model_path = f'/home/hedongchen/projects/RhoDesign/model/f_{name}_{str(i)}/cf_16.pth' # please specify the path to the model checkpoint\n",
    "    pdb_list = np.load(path)\n",
    "    \n",
    "    rc.append(eval(model,pdb_list,model_path,_device))\n",
    "    ppl.append(eval_ppl(model,pdb_list,model_path))\n",
    "\n",
    "recovery_rate = np.mean(rc)\n",
    "perplexity = np.mean(ppl)\n",
    "\n",
    "print('For cross-fold validation, when sequence-similarity < 0.6, average recovery_rate:', recovery_rate)\n",
    "print('For cross-fold validation, when sequence-similarity < 0.6, average perplexity:', perplexity)"
   ]
  },
  {
   "cell_type": "code",
   "execution_count": 4,
   "metadata": {},
   "outputs": [
    {
     "name": "stderr",
     "output_type": "stream",
     "text": [
      "100%|██████████| 802/802 [04:39<00:00,  2.87it/s]\n",
      "100%|██████████| 802/802 [00:57<00:00, 13.88it/s]\n",
      "100%|██████████| 803/803 [03:11<00:00,  4.19it/s]\n",
      "100%|██████████| 803/803 [00:44<00:00, 18.18it/s]\n",
      "100%|██████████| 801/801 [03:20<00:00,  3.99it/s]\n",
      "100%|██████████| 801/801 [00:45<00:00, 17.69it/s]\n",
      "100%|██████████| 803/803 [03:21<00:00,  3.99it/s]\n",
      "100%|██████████| 803/803 [00:45<00:00, 17.52it/s]\n",
      "100%|██████████| 840/840 [06:34<00:00,  2.13it/s]\n",
      "100%|██████████| 840/840 [01:15<00:00, 11.11it/s]"
     ]
    },
    {
     "name": "stdout",
     "output_type": "stream",
     "text": [
      "For cross-fold validation, when structure-similarity < 0.5, average recovery_rate: 0.6494589401523532\n",
      "For cross-fold validation, when structure-similarity < 0.5, average perplexity: 1.9656064742114487\n"
     ]
    },
    {
     "name": "stderr",
     "output_type": "stream",
     "text": [
      "\n"
     ]
    }
   ],
   "source": [
    "name = 'struc'\n",
    "rc = []\n",
    "ppl = []\n",
    "\n",
    "for i in range(5):\n",
    "    path = f'/home/hedongchen/fold_{name}_{str(i)}.npy' # please specify the path to the pdb id file\n",
    "    model_path = f'/home/hedongchen/projects/RhoDesign/model/f_{name}_{str(i)}/cf_16.pth' # please specify the path to the model checkpoint\n",
    "    pdb_list = np.load(path)\n",
    "    \n",
    "    rc.append(eval(model,pdb_list,model_path,_device))\n",
    "    ppl.append(eval_ppl(model,pdb_list,model_path))\n",
    "\n",
    "recovery_rate = np.mean(rc)\n",
    "perplexity = np.mean(ppl)\n",
    "\n",
    "print('For cross-fold validation, when structure-similarity < 0.5, average recovery_rate:', recovery_rate)\n",
    "print('For cross-fold validation, when structure-similarity < 0.5, average perplexity:', perplexity)"
   ]
  },
  {
   "cell_type": "markdown",
   "metadata": {},
   "source": [
    "For TM-score and RMSD, please firstly git clone the repository of RhoFold, and then use RhoFold to predict the structure of predicted sequences."
   ]
  },
  {
   "cell_type": "code",
   "execution_count": 13,
   "metadata": {},
   "outputs": [],
   "source": [
    "import pymol\n",
    "\n",
    "def align_pdb(gt_file, compared_file):\n",
    "    gt_filename_pre = os.path.splitext(os.path.split(gt_file)[1])[0]\n",
    "    compare_filename_pre = os.path.splitext(os.path.split(compared_file)[1])[0]+'_des'\n",
    "    if gt_filename_pre != compare_filename_pre:\n",
    "        pymol.cmd.load(gt_file,object=gt_filename_pre)\n",
    "        pymol.cmd.load(compared_file,object=compare_filename_pre)\n",
    "        align_output = pymol.cmd.align(gt_filename_pre, compare_filename_pre, cycles=2)\n",
    "        pymol.cmd.delete(gt_filename_pre)\n",
    "        pymol.cmd.delete(compare_filename_pre)\n",
    "        return align_output[0]\n",
    "    else:\n",
    "        return 0\n",
    "    \n",
    "def tm_score(gt_path, pred_path):\n",
    "    os.system(f'/home/hedongchen/USalign {gt_path} {pred_path} > ./tmscore.txt -outfmt 2') # please specify USalign path here\n",
    "    try:\n",
    "        with open(f'./tmscore.txt','r') as f:\n",
    "            data = f.readlines()\n",
    "        t1 = float(data[1].split()[2])\n",
    "    except:\n",
    "        print(pred_path.split('/')[-1])\n",
    "        return -1\n",
    "    return t1"
   ]
  },
  {
   "cell_type": "code",
   "execution_count": 15,
   "metadata": {},
   "outputs": [
    {
     "name": "stderr",
     "output_type": "stream",
     "text": [
      "100%|██████████| 801/801 [00:37<00:00, 21.27it/s]\n",
      " 20%|██        | 164/803 [00:03<00:16, 37.65it/s]"
     ]
    },
    {
     "name": "stdout",
     "output_type": "stream",
     "text": [
      " Matrix: Warning: no convergence (0.00000010<171917.98437500 after 1000 iterations).\n",
      " Matrix: Warning: no convergence (0.00000010<171917.98437500 after 1000 iterations).\n"
     ]
    },
    {
     "name": "stderr",
     "output_type": "stream",
     "text": [
      " 22%|██▏       | 178/803 [00:04<00:18, 33.88it/s]"
     ]
    },
    {
     "name": "stdout",
     "output_type": "stream",
     "text": [
      " Matrix: Warning: no convergence (0.00000010<414097.28125000 after 1000 iterations).\n",
      " Matrix: Warning: no convergence (0.00000010<414097.28125000 after 1000 iterations).\n"
     ]
    },
    {
     "name": "stderr",
     "output_type": "stream",
     "text": [
      " 67%|██████▋   | 537/803 [00:18<00:07, 34.52it/s]"
     ]
    },
    {
     "name": "stdout",
     "output_type": "stream",
     "text": [
      " Matrix: Warning: no convergence (0.00000010<635369.56250000 after 1000 iterations).\n",
      " Matrix: Warning: no convergence (0.00000010<635369.56250000 after 1000 iterations).\n"
     ]
    },
    {
     "name": "stderr",
     "output_type": "stream",
     "text": [
      " 86%|████████▌ | 687/803 [00:26<00:08, 13.87it/s]"
     ]
    },
    {
     "name": "stdout",
     "output_type": "stream",
     "text": [
      " Matrix: Warning: no convergence (0.00000010<26420.16015625 after 1000 iterations).\n",
      " Matrix: Warning: no convergence (0.00000010<26420.16015625 after 1000 iterations).\n"
     ]
    },
    {
     "name": "stderr",
     "output_type": "stream",
     "text": [
      "100%|██████████| 803/803 [00:30<00:00, 26.22it/s]\n",
      " 25%|██▌       | 215/852 [00:08<00:13, 48.99it/s]"
     ]
    },
    {
     "name": "stdout",
     "output_type": "stream",
     "text": [
      " Matrix: Warning: no convergence (0.00000010<26761.16210938 after 1000 iterations).\n",
      " Matrix: Warning: no convergence (0.00000010<24702.55273438 after 1000 iterations).\n",
      " Matrix: Warning: no convergence (0.00000010<25186.64062500 after 1000 iterations).\n",
      " Matrix: Warning: no convergence (0.00000010<26665.21093750 after 1000 iterations).\n",
      " Matrix: Warning: no convergence (0.00000010<25939.14843750 after 1000 iterations).\n"
     ]
    },
    {
     "name": "stderr",
     "output_type": "stream",
     "text": [
      "100%|██████████| 852/852 [00:51<00:00, 16.41it/s]\n",
      " 97%|█████████▋| 792/820 [00:26<00:00, 39.66it/s]"
     ]
    },
    {
     "name": "stdout",
     "output_type": "stream",
     "text": [
      " Matrix: Warning: no convergence (0.00000010<113064.19531250 after 1000 iterations).\n",
      " Matrix: Warning: no convergence (0.00000010<112544.01562500 after 1000 iterations).\n",
      " Matrix: Warning: no convergence (0.00000010<111902.45312500 after 1000 iterations).\n"
     ]
    },
    {
     "name": "stderr",
     "output_type": "stream",
     "text": [
      "100%|██████████| 820/820 [00:26<00:00, 30.71it/s]\n",
      " 45%|████▍     | 360/801 [00:11<00:11, 37.53it/s]"
     ]
    },
    {
     "name": "stdout",
     "output_type": "stream",
     "text": [
      " Matrix: Warning: no convergence (0.00000010<646879.18750000 after 1000 iterations).\n",
      " Matrix: Warning: no convergence (0.00000010<657736.68750000 after 1000 iterations).\n",
      " Matrix: Warning: no convergence (0.00000010<662072.50000000 after 1000 iterations).\n"
     ]
    },
    {
     "name": "stderr",
     "output_type": "stream",
     "text": [
      " 48%|████▊     | 388/801 [00:13<00:23, 17.86it/s]"
     ]
    },
    {
     "name": "stdout",
     "output_type": "stream",
     "text": [
      " Matrix: Warning: no convergence (0.00000010<690839.06250000 after 1000 iterations).\n"
     ]
    },
    {
     "name": "stderr",
     "output_type": "stream",
     "text": [
      "100%|██████████| 801/801 [00:33<00:00, 23.83it/s]"
     ]
    },
    {
     "name": "stdout",
     "output_type": "stream",
     "text": [
      "For cross-fold validation, when sequence-similarity < 0.6, average TM-score: 0.301043561442237\n",
      "For cross-fold validation, when sequence-similarity < 0.6, average RMSD: 13.271298147107505\n"
     ]
    },
    {
     "name": "stderr",
     "output_type": "stream",
     "text": [
      "\n"
     ]
    }
   ],
   "source": [
    "from tqdm import tqdm\n",
    "name = 'seq'\n",
    "tm = []\n",
    "rmsd = []\n",
    "\n",
    "for i in range(5):\n",
    "    path = f'/home/hedongchen/fold_{name}_{str(i)}.npy' # please specify the path to the pdb id file\n",
    "    pred_struc = f'/home/hedongchen/projects/RhoDesign/data/{name}_fold_{str(i)}_struc/'\n",
    "    gt_struc = f'/home/hedongchen/projects/RNA3D_DATA/pdb/'\n",
    "    pdb_list = np.load(path)\n",
    "    for pdb in tqdm(pdb_list):\n",
    "        gt_file = gt_struc + pdb + '.pdb'\n",
    "        pred_file = pred_struc + pdb + '/unrelaxed_model.pdb'\n",
    "        rmsd.append(align_pdb(gt_file, pred_file))\n",
    "        tm.append(tm_score(gt_file, pred_file))\n",
    "\n",
    "print('For cross-fold validation, when sequence-similarity < 0.6, average TM-score:', np.mean(tm))\n",
    "print('For cross-fold validation, when sequence-similarity < 0.6, average RMSD:', np.mean(rmsd))"
   ]
  },
  {
   "cell_type": "code",
   "execution_count": 14,
   "metadata": {},
   "outputs": [
    {
     "name": "stderr",
     "output_type": "stream",
     "text": [
      "  2%|▏         | 13/802 [00:00<00:17, 46.17it/s]"
     ]
    },
    {
     "name": "stdout",
     "output_type": "stream",
     "text": [
      " Matrix: Warning: no convergence (0.00000010<629133.43750000 after 1000 iterations).\n",
      " Matrix: Warning: no convergence (0.00000010<629133.43750000 after 1000 iterations).\n",
      " Matrix: Warning: no convergence (0.00000010<381486.59375000 after 1000 iterations).\n",
      " Matrix: Warning: no convergence (0.00000010<381486.59375000 after 1000 iterations).\n"
     ]
    },
    {
     "name": "stderr",
     "output_type": "stream",
     "text": [
      "100%|██████████| 802/802 [00:45<00:00, 17.58it/s]\n",
      "100%|██████████| 803/803 [00:30<00:00, 26.35it/s]\n"
     ]
    },
    {
     "name": "stdout",
     "output_type": "stream",
     "text": [
      " Matrix: Warning: no convergence (0.00000010<345880.06250000 after 1000 iterations).\n"
     ]
    },
    {
     "name": "stderr",
     "output_type": "stream",
     "text": [
      "  7%|▋         | 58/801 [00:01<00:17, 41.55it/s]"
     ]
    },
    {
     "name": "stdout",
     "output_type": "stream",
     "text": [
      " Matrix: Warning: no convergence (0.00000010<41787.88281250 after 1000 iterations).\n",
      " Matrix: Warning: no convergence (0.00000010<41787.88281250 after 1000 iterations).\n"
     ]
    },
    {
     "name": "stderr",
     "output_type": "stream",
     "text": [
      " 39%|███▊      | 309/801 [00:12<00:13, 37.62it/s]"
     ]
    },
    {
     "name": "stdout",
     "output_type": "stream",
     "text": [
      " Matrix: Warning: no convergence (0.00000010<57841.13671875 after 1000 iterations).\n"
     ]
    },
    {
     "name": "stderr",
     "output_type": "stream",
     "text": [
      "100%|██████████| 801/801 [00:31<00:00, 25.33it/s]\n",
      " 20%|██        | 164/803 [00:07<00:23, 27.74it/s]"
     ]
    },
    {
     "name": "stdout",
     "output_type": "stream",
     "text": [
      " Matrix: Warning: no convergence (0.00000010<65933.25781250 after 1000 iterations).\n",
      " Matrix: Warning: no convergence (0.00000010<65933.25781250 after 1000 iterations).\n"
     ]
    },
    {
     "name": "stderr",
     "output_type": "stream",
     "text": [
      " 31%|███       | 250/803 [00:10<00:25, 21.71it/s]"
     ]
    },
    {
     "name": "stdout",
     "output_type": "stream",
     "text": [
      " Matrix: Warning: no convergence (0.00000010<3833610.25000000 after 1000 iterations).\n",
      " Matrix: Warning: no convergence (0.00000010<3833610.25000000 after 1000 iterations).\n"
     ]
    },
    {
     "name": "stderr",
     "output_type": "stream",
     "text": [
      "100%|██████████| 803/803 [00:33<00:00, 24.00it/s]\n",
      "100%|██████████| 840/840 [01:06<00:00, 12.58it/s]"
     ]
    },
    {
     "name": "stdout",
     "output_type": "stream",
     "text": [
      "For cross-fold validation, when structure-similarity < 0.5, average TM-score: 0.328571647320326\n",
      "For cross-fold validation, when structure-similarity < 0.5, average RMSD: 13.027279806051704\n"
     ]
    },
    {
     "name": "stderr",
     "output_type": "stream",
     "text": [
      "\n"
     ]
    }
   ],
   "source": [
    "from tqdm import tqdm\n",
    "name = 'struc'\n",
    "tm = []\n",
    "rmsd = []\n",
    "\n",
    "for i in range(5):\n",
    "    path = f'/home/hedongchen/fold_{name}_{str(i)}.npy' # please specify the path to the pdb id file\n",
    "    pred_struc = f'/home/hedongchen/projects/RhoDesign/data/{name}_fold_{str(i)}_struc/'\n",
    "    gt_struc = f'/home/hedongchen/projects/RNA3D_DATA/pdb/'\n",
    "    pdb_list = np.load(path)\n",
    "    for pdb in tqdm(pdb_list):\n",
    "        gt_file = gt_struc + pdb + '.pdb'\n",
    "        pred_file = pred_struc + pdb + '/unrelaxed_model.pdb'\n",
    "        rmsd.append(align_pdb(gt_file, pred_file))\n",
    "        tm.append(tm_score(gt_file, pred_file))\n",
    "\n",
    "print('For cross-fold validation, when structure-similarity < 0.5, average TM-score:', np.mean(tm))\n",
    "print('For cross-fold validation, when structure-similarity < 0.5, average RMSD:', np.mean(rmsd))"
   ]
  },
  {
   "cell_type": "markdown",
   "metadata": {},
   "source": [
    "For a given structure, to design the sequence, we can use the following code:"
   ]
  },
  {
   "cell_type": "code",
   "execution_count": 6,
   "metadata": {},
   "outputs": [
    {
     "name": "stdout",
     "output_type": "stream",
     "text": [
      "original sequence: CGACUCUUAGCGGUGGAUCACUCGGCUCGUGCGUCGAUGAAGAACGCAGCUAGCUGCGAGAAUUAAUGUGAAUUGCAGGACACAUUGAUCAUCGACACUUCGAACGCACUUGCGGCCCCGGGUUCCUCCCGGGGCUACGCCUGUCUGAGCGUCGCUU\n",
      "sequence: UAACUUCCGGCGGCGGACCACUCGGUCUGCAUACCGAUGAAGGACGUAACGAGCUGCAAAGACUAAUGCGAACUACGGAAUGUAGUAAUUGCUAGCGUUCUGCAUGCGUACACGACCCCAAGCUUCCCCCAGGGCAUUGUUCAUCUGAGCAUGCAUU\n",
      "recovery rate: 0.5605095541401274\n"
     ]
    }
   ],
   "source": [
    "from RhoDesign import RhoDesignModel\n",
    "from alphabet import Alphabet\n",
    "import torch\n",
    "import torch.nn.functional as F\n",
    "from tqdm import tqdm\n",
    "import numpy as np\n",
    "import random\n",
    "from util import load_structure, extract_coords_from_structure, seq_rec_rate\n",
    "import os\n",
    "import argparse\n",
    "random.seed(1)\n",
    "\n",
    "\n",
    "\n",
    "class args_class:  # use the same param as esm-if1, waiting to be adjusted...\n",
    "    def __init__(self, encoder_embed_dim, decoder_embed_dim, dropout):\n",
    "        self.local_rank = int(os.getenv(\"LOCAL_RANK\", -1))\n",
    "        self.device_id = [0, 1, 2, 3, 4, 5, 6, 7]\n",
    "        self.epochs = 100\n",
    "        self.lr = 1e-5\n",
    "        self.batch_size = 1\n",
    "        self.encoder_embed_dim = encoder_embed_dim\n",
    "        self.decoder_embed_dim = decoder_embed_dim\n",
    "        self.dropout = dropout\n",
    "        self.gvp_top_k_neighbors = 15\n",
    "        self.gvp_node_hidden_dim_vector = 256\n",
    "        self.gvp_node_hidden_dim_scalar = 512\n",
    "        self.gvp_edge_hidden_dim_scalar = 32\n",
    "        self.gvp_edge_hidden_dim_vector = 1\n",
    "        self.gvp_num_encoder_layers = 3\n",
    "        self.gvp_dropout = 0.1\n",
    "        self.encoder_layers = 3\n",
    "        self.encoder_attention_heads = 4\n",
    "        self.attention_dropout = 0.1\n",
    "        self.encoder_ffn_embed_dim = 512\n",
    "        self.decoder_layers = 3\n",
    "        self.decoder_attention_heads = 4\n",
    "        self.decoder_ffn_embed_dim = 512\n",
    "\n",
    "\n",
    "def eval(model,pdb_path,ss_path,save_path,_device,temp=1e-5):\n",
    "    \"\"\"\n",
    "    fpath: path to pdb file\n",
    "    \"\"\"\n",
    "\n",
    "    model_path = './../checkpoint/ss_apexp_best.pth'\n",
    "    \n",
    "    model_dir=torch.load(model_path) \n",
    "    model.load_state_dict(model_dir)  \n",
    "    model.eval()\n",
    "    rc = []\n",
    "    \n",
    "    ss_ct_map = np.load(ss_path)\n",
    "    pdb = load_structure(pdb_path)\n",
    "    coords, seq = extract_coords_from_structure(pdb)\n",
    "\n",
    "    pred_seq = model.sample(coords,ss_ct_map,_device,temperature=temp)\n",
    "    rc_value = seq_rec_rate(seq,pred_seq)\n",
    "    rc.append(rc_value)\n",
    "    with open(os.path.join(save_path,'pred_seq.fasta'),'w') as f:\n",
    "        f.write('>predicted_by_RhoDesign'+'\\n')\n",
    "        f.write(pred_seq+'\\n')\n",
    "    print('original sequence: ' + seq)\n",
    "    print('sequence: ' + pred_seq)\n",
    "    print('recovery rate: ' + str(np.mean(rc)))\n",
    "\n",
    "\n",
    "\n",
    "pdb = '/home/hedongchen/projects/RNA3D_DATA/pdb/4v6x_A8.pdb' #specify the path to the pdb file\n",
    "ss = '/home/hedongchen/projects/RNA3D_DATA/ss/4v6x_A8.npy' #specify the path to the secondary structure file\n",
    "save_path = './../example/'\n",
    "_device = 3\n",
    "temp = 1\n",
    "\n",
    "model_args = args_class(512,512,0.1)\n",
    "dictionary = Alphabet(['A','G','C','U','X'])\n",
    "model = RhoDesignModel(model_args, dictionary).cuda(device=_device)\n",
    "eval(model,pdb,ss,save_path,_device,temp)\n"
   ]
  },
  {
   "cell_type": "code",
   "execution_count": null,
   "metadata": {},
   "outputs": [],
   "source": []
  }
 ],
 "metadata": {
  "kernelspec": {
   "display_name": "RhoDesign",
   "language": "python",
   "name": "python3"
  },
  "language_info": {
   "codemirror_mode": {
    "name": "ipython",
    "version": 3
   },
   "file_extension": ".py",
   "mimetype": "text/x-python",
   "name": "python",
   "nbconvert_exporter": "python",
   "pygments_lexer": "ipython3",
   "version": "3.9.18"
  }
 },
 "nbformat": 4,
 "nbformat_minor": 2
}
